{
 "cells": [
  {
   "cell_type": "code",
   "execution_count": 1,
   "id": "89ebc041",
   "metadata": {
    "_cell_guid": "b1076dfc-b9ad-4769-8c92-a6c4dae69d19",
    "_uuid": "8f2839f25d086af736a60e9eeb907d3b93b6e0e5",
    "execution": {
     "iopub.execute_input": "2023-07-17T19:13:24.678836Z",
     "iopub.status.busy": "2023-07-17T19:13:24.677678Z",
     "iopub.status.idle": "2023-07-17T19:13:24.694625Z",
     "shell.execute_reply": "2023-07-17T19:13:24.693260Z"
    },
    "papermill": {
     "duration": 0.027851,
     "end_time": "2023-07-17T19:13:24.696823",
     "exception": false,
     "start_time": "2023-07-17T19:13:24.668972",
     "status": "completed"
    },
    "tags": []
   },
   "outputs": [
    {
     "name": "stdout",
     "output_type": "stream",
     "text": [
      "/kaggle/input/spaceship-titanic/sample_submission.csv\n",
      "/kaggle/input/spaceship-titanic/train.csv\n",
      "/kaggle/input/spaceship-titanic/test.csv\n"
     ]
    }
   ],
   "source": [
    "# This Python 3 environment comes with many helpful analytics libraries installed\n",
    "# It is defined by the kaggle/python Docker image: https://github.com/kaggle/docker-python\n",
    "# For example, here's several helpful packages to load\n",
    "\n",
    "import numpy as np # linear algebra\n",
    "import pandas as pd # data processing, CSV file I/O (e.g. pd.read_csv)\n",
    "\n",
    "# Input data files are available in the read-only \"../input/\" directory\n",
    "# For example, running this (by clicking run or pressing Shift+Enter) will list all files under the input directory\n",
    "\n",
    "import os\n",
    "for dirname, _, filenames in os.walk('/kaggle/input'):\n",
    "    for filename in filenames:\n",
    "        print(os.path.join(dirname, filename))\n",
    "\n",
    "# You can write up to 20GB to the current directory (/kaggle/working/) that gets preserved as output when you create a version using \"Save & Run All\" \n",
    "# You can also write temporary files to /kaggle/temp/, but they won't be saved outside of the current session"
   ]
  },
  {
   "cell_type": "code",
   "execution_count": 2,
   "id": "d620ef58",
   "metadata": {
    "execution": {
     "iopub.execute_input": "2023-07-17T19:13:24.710890Z",
     "iopub.status.busy": "2023-07-17T19:13:24.710510Z",
     "iopub.status.idle": "2023-07-17T19:13:24.804066Z",
     "shell.execute_reply": "2023-07-17T19:13:24.803157Z"
    },
    "papermill": {
     "duration": 0.103702,
     "end_time": "2023-07-17T19:13:24.806877",
     "exception": false,
     "start_time": "2023-07-17T19:13:24.703175",
     "status": "completed"
    },
    "tags": []
   },
   "outputs": [],
   "source": [
    "X_full_train = pd.read_csv('/kaggle/input/spaceship-titanic/train.csv')\n",
    "X_full_test = pd.read_csv('/kaggle/input/spaceship-titanic/test.csv')"
   ]
  },
  {
   "cell_type": "code",
   "execution_count": 3,
   "id": "a4c14222",
   "metadata": {
    "execution": {
     "iopub.execute_input": "2023-07-17T19:13:24.821353Z",
     "iopub.status.busy": "2023-07-17T19:13:24.821002Z",
     "iopub.status.idle": "2023-07-17T19:13:24.827579Z",
     "shell.execute_reply": "2023-07-17T19:13:24.826605Z"
    },
    "papermill": {
     "duration": 0.016069,
     "end_time": "2023-07-17T19:13:24.829903",
     "exception": false,
     "start_time": "2023-07-17T19:13:24.813834",
     "status": "completed"
    },
    "tags": []
   },
   "outputs": [],
   "source": [
    "def create_total_bill(train):\n",
    "    rs = 'RoomService'\n",
    "    fc = 'FoodCourt'\n",
    "    sm = 'ShoppingMall'\n",
    "    spa = 'Spa'\n",
    "    vrd = 'VRDeck'\n",
    "    if train:\n",
    "        total_bill = X_full_train[[rs, fc, sm, spa, vrd]].sum(axis=1)\n",
    "        X_full_train.insert(12, 'TotalBill', total_bill)\n",
    "    else:\n",
    "        total_bill = X_full_test[[rs, fc, sm, spa, vrd]].sum(axis=1)\n",
    "        X_full_test.insert(12, 'TotalBill', total_bill)"
   ]
  },
  {
   "cell_type": "code",
   "execution_count": 4,
   "id": "7ac5e7be",
   "metadata": {
    "execution": {
     "iopub.execute_input": "2023-07-17T19:13:24.843659Z",
     "iopub.status.busy": "2023-07-17T19:13:24.843085Z",
     "iopub.status.idle": "2023-07-17T19:13:24.849662Z",
     "shell.execute_reply": "2023-07-17T19:13:24.849038Z"
    },
    "papermill": {
     "duration": 0.015689,
     "end_time": "2023-07-17T19:13:24.851495",
     "exception": false,
     "start_time": "2023-07-17T19:13:24.835806",
     "status": "completed"
    },
    "tags": []
   },
   "outputs": [],
   "source": [
    "def split_train_cabin():\n",
    "    deck = [str(c).split('/')[0] if c is not np.nan else 'nan' for c in X_full_train.Cabin]\n",
    "    number = [str(c).split('/')[1] if c is not np.nan else 'nan' for c in X_full_train.Cabin]\n",
    "    ps = [str(c).split('/')[2] if c is not np.nan else 'nan' for c in X_full_train.Cabin]\n",
    "    X_full_train.insert(3, 'Deck', deck)\n",
    "    X_full_train.insert(4, 'Number', number)\n",
    "    X_full_train.insert(5, 'P/S', ps)\n",
    "    X_full_train.drop(['Cabin'], axis=1, inplace=True)"
   ]
  },
  {
   "cell_type": "code",
   "execution_count": 5,
   "id": "569323cd",
   "metadata": {
    "execution": {
     "iopub.execute_input": "2023-07-17T19:13:24.864702Z",
     "iopub.status.busy": "2023-07-17T19:13:24.864088Z",
     "iopub.status.idle": "2023-07-17T19:13:24.868080Z",
     "shell.execute_reply": "2023-07-17T19:13:24.867291Z"
    },
    "papermill": {
     "duration": 0.012411,
     "end_time": "2023-07-17T19:13:24.869935",
     "exception": false,
     "start_time": "2023-07-17T19:13:24.857524",
     "status": "completed"
    },
    "tags": []
   },
   "outputs": [],
   "source": [
    "# def split_test_cabin():\n",
    "#     deck = [str(c).split('/')[0] if c is not np.nan else 'nan' for c in X_full_test.Cabin]\n",
    "#     number = [str(c).split('/')[1] if c is not np.nan else 'nan' for c in X_full_test.Cabin]\n",
    "#     ps = [str(c).split('/')[2] if c is not np.nan else 'nan' for c in X_full_test.Cabin]\n",
    "#     X_full_test.insert(3, 'Deck', deck)\n",
    "#     X_full_test.insert(4, 'Number', number)\n",
    "#     X_full_test.insert(5, 'P/S', ps)\n",
    "#     X_full_test.drop(['Cabin'], axis=1, inplace=True)"
   ]
  },
  {
   "cell_type": "code",
   "execution_count": 6,
   "id": "db007ece",
   "metadata": {
    "execution": {
     "iopub.execute_input": "2023-07-17T19:13:24.883417Z",
     "iopub.status.busy": "2023-07-17T19:13:24.882876Z",
     "iopub.status.idle": "2023-07-17T19:13:24.887742Z",
     "shell.execute_reply": "2023-07-17T19:13:24.887034Z"
    },
    "papermill": {
     "duration": 0.013901,
     "end_time": "2023-07-17T19:13:24.889714",
     "exception": false,
     "start_time": "2023-07-17T19:13:24.875813",
     "status": "completed"
    },
    "tags": []
   },
   "outputs": [],
   "source": [
    "def change_types_train():\n",
    "    X_full_train.CryoSleep = X_full_train.CryoSleep.astype(bool)\n",
    "    X_full_train.VIP = X_full_train.VIP.astype(bool)\n",
    "#     X_full_train.CryoSleep = pd.to_numeric(X_full_train.CryoSleep, errors='coerce')\n",
    "#     X_full_train.VIP = pd.to_numeric(X_full_train.VIP, errors='coerce')\n",
    "#     X_full_train.Number = pd.to_numeric(X_full_train.Number, errors='coerce')"
   ]
  },
  {
   "cell_type": "code",
   "execution_count": 7,
   "id": "7297ddf4",
   "metadata": {
    "execution": {
     "iopub.execute_input": "2023-07-17T19:13:24.904626Z",
     "iopub.status.busy": "2023-07-17T19:13:24.904079Z",
     "iopub.status.idle": "2023-07-17T19:13:24.908182Z",
     "shell.execute_reply": "2023-07-17T19:13:24.907523Z"
    },
    "papermill": {
     "duration": 0.013222,
     "end_time": "2023-07-17T19:13:24.910156",
     "exception": false,
     "start_time": "2023-07-17T19:13:24.896934",
     "status": "completed"
    },
    "tags": []
   },
   "outputs": [],
   "source": [
    "# def change_types_test():\n",
    "#     X_full_test.CryoSleep = X_full_test.CryoSleep.astype(bool)\n",
    "#     X_full_test.VIP = X_full_test.VIP.astype(bool)\n",
    "#     X_full_test.Number = pd.to_numeric(X_full_test.Number, errors='coerce')"
   ]
  },
  {
   "cell_type": "code",
   "execution_count": 8,
   "id": "c152a51b",
   "metadata": {
    "execution": {
     "iopub.execute_input": "2023-07-17T19:13:24.923517Z",
     "iopub.status.busy": "2023-07-17T19:13:24.923011Z",
     "iopub.status.idle": "2023-07-17T19:13:24.928633Z",
     "shell.execute_reply": "2023-07-17T19:13:24.927881Z"
    },
    "papermill": {
     "duration": 0.014402,
     "end_time": "2023-07-17T19:13:24.930659",
     "exception": false,
     "start_time": "2023-07-17T19:13:24.916257",
     "status": "completed"
    },
    "tags": []
   },
   "outputs": [],
   "source": [
    "def separate_cols_train():\n",
    "    numerical_cols = [c for c in X_full_train.columns if X_full_train[c].dtype in ['float']]\n",
    "    categorical_cols = [c for c in X_full_train.columns if X_full_train[c].dtype == 'object']\n",
    "    boolean_cols = [c for c in X_full_train.columns if X_full_train[c].dtype == 'bool']\n",
    "    my_cols = numerical_cols + categorical_cols + boolean_cols\n",
    "    return my_cols"
   ]
  },
  {
   "cell_type": "code",
   "execution_count": 9,
   "id": "d6b0cc0c",
   "metadata": {
    "execution": {
     "iopub.execute_input": "2023-07-17T19:13:24.943472Z",
     "iopub.status.busy": "2023-07-17T19:13:24.943168Z",
     "iopub.status.idle": "2023-07-17T19:13:24.946807Z",
     "shell.execute_reply": "2023-07-17T19:13:24.945886Z"
    },
    "papermill": {
     "duration": 0.012335,
     "end_time": "2023-07-17T19:13:24.948779",
     "exception": false,
     "start_time": "2023-07-17T19:13:24.936444",
     "status": "completed"
    },
    "tags": []
   },
   "outputs": [],
   "source": [
    "# def separate_cols_test():\n",
    "#     numerical_cols = [c for c in X_full_test.columns if X_full_test[c].dtype in ['float']]\n",
    "#     categorical_cols = [c for c in X_full_test.columns if X_full_test[c].dtype == 'object']"
   ]
  },
  {
   "cell_type": "code",
   "execution_count": 10,
   "id": "48e899cb",
   "metadata": {
    "execution": {
     "iopub.execute_input": "2023-07-17T19:13:24.961749Z",
     "iopub.status.busy": "2023-07-17T19:13:24.961221Z",
     "iopub.status.idle": "2023-07-17T19:13:25.003162Z",
     "shell.execute_reply": "2023-07-17T19:13:25.002392Z"
    },
    "papermill": {
     "duration": 0.05106,
     "end_time": "2023-07-17T19:13:25.005643",
     "exception": false,
     "start_time": "2023-07-17T19:13:24.954583",
     "status": "completed"
    },
    "tags": []
   },
   "outputs": [],
   "source": [
    "create_total_bill(True)\n",
    "# create_total_bill(False)\n",
    "split_train_cabin()\n",
    "# split_test_cabin()\n",
    "change_types_train()\n",
    "# change_types_test()\n",
    "# separate_cols_train()\n",
    "# separate_cols_test()"
   ]
  },
  {
   "cell_type": "code",
   "execution_count": 11,
   "id": "c8e6a848",
   "metadata": {
    "execution": {
     "iopub.execute_input": "2023-07-17T19:13:25.020155Z",
     "iopub.status.busy": "2023-07-17T19:13:25.019212Z",
     "iopub.status.idle": "2023-07-17T19:13:25.457865Z",
     "shell.execute_reply": "2023-07-17T19:13:25.457109Z"
    },
    "papermill": {
     "duration": 0.447907,
     "end_time": "2023-07-17T19:13:25.459871",
     "exception": false,
     "start_time": "2023-07-17T19:13:25.011964",
     "status": "completed"
    },
    "tags": []
   },
   "outputs": [
    {
     "data": {
      "text/plain": [
       "<Axes: >"
      ]
     },
     "execution_count": 11,
     "metadata": {},
     "output_type": "execute_result"
    },
    {
     "data": {
      "image/png": "[encoded data removed]",
      "text/plain": [
       "<Figure size 640x480 with 1 Axes>"
      ]
     },
     "metadata": {},
     "output_type": "display_data"
    }
   ],
   "source": [
    "bill_per_deck = X_full_train[['Deck', 'TotalBill']].groupby('Deck').sum()\n",
    "bill_per_deck.T.plot.bar()"
   ]
  },
  {
   "cell_type": "code",
   "execution_count": 12,
   "id": "8993962e",
   "metadata": {
    "execution": {
     "iopub.execute_input": "2023-07-17T19:13:25.474818Z",
     "iopub.status.busy": "2023-07-17T19:13:25.473980Z",
     "iopub.status.idle": "2023-07-17T19:13:27.068486Z",
     "shell.execute_reply": "2023-07-17T19:13:27.067372Z"
    },
    "papermill": {
     "duration": 1.604779,
     "end_time": "2023-07-17T19:13:27.071153",
     "exception": false,
     "start_time": "2023-07-17T19:13:25.466374",
     "status": "completed"
    },
    "tags": []
   },
   "outputs": [],
   "source": [
    "from sklearn.impute import SimpleImputer\n",
    "from sklearn.preprocessing import OneHotEncoder\n",
    "from sklearn.pipeline import Pipeline\n",
    "from sklearn.compose import ColumnTransformer\n",
    "from sklearn.model_selection import train_test_split\n",
    "from xgboost import XGBRegressor, XGBClassifier\n",
    "from sklearn.metrics import accuracy_score, precision_score, recall_score, f1_score, roc_auc_score"
   ]
  },
  {
   "cell_type": "code",
   "execution_count": 13,
   "id": "1516d812",
   "metadata": {
    "execution": {
     "iopub.execute_input": "2023-07-17T19:13:27.086734Z",
     "iopub.status.busy": "2023-07-17T19:13:27.085740Z",
     "iopub.status.idle": "2023-07-17T19:13:27.098193Z",
     "shell.execute_reply": "2023-07-17T19:13:27.097453Z"
    },
    "papermill": {
     "duration": 0.022105,
     "end_time": "2023-07-17T19:13:27.100291",
     "exception": false,
     "start_time": "2023-07-17T19:13:27.078186",
     "status": "completed"
    },
    "tags": []
   },
   "outputs": [],
   "source": [
    "y = X_full_train.Transported\n",
    "X_full_train.drop('Transported', axis=1, inplace=True)\n",
    "X_train, X_test, y_train, y_test = train_test_split(X_full_train, y, test_size=0.2, random_state=0)"
   ]
  },
  {
   "cell_type": "code",
   "execution_count": 14,
   "id": "055f612d",
   "metadata": {
    "execution": {
     "iopub.execute_input": "2023-07-17T19:13:27.114923Z",
     "iopub.status.busy": "2023-07-17T19:13:27.114389Z",
     "iopub.status.idle": "2023-07-17T19:13:27.122858Z",
     "shell.execute_reply": "2023-07-17T19:13:27.122131Z"
    },
    "papermill": {
     "duration": 0.017846,
     "end_time": "2023-07-17T19:13:27.124681",
     "exception": false,
     "start_time": "2023-07-17T19:13:27.106835",
     "status": "completed"
    },
    "tags": []
   },
   "outputs": [],
   "source": [
    "# Convert columns to integer type after handling missing values\n",
    "X_train['CryoSleep'] = X_train['CryoSleep'].astype(float).fillna(0).astype(int)\n",
    "X_train['VIP'] = X_train['VIP'].astype(float).fillna(0).astype(int)\n",
    "X_train['Number'] = X_train['Number'].astype(float).fillna(0).astype(int)\n"
   ]
  },
  {
   "cell_type": "code",
   "execution_count": 15,
   "id": "8d980a30",
   "metadata": {
    "execution": {
     "iopub.execute_input": "2023-07-17T19:13:27.138981Z",
     "iopub.status.busy": "2023-07-17T19:13:27.138418Z",
     "iopub.status.idle": "2023-07-17T19:13:27.179320Z",
     "shell.execute_reply": "2023-07-17T19:13:27.178274Z"
    },
    "papermill": {
     "duration": 0.050629,
     "end_time": "2023-07-17T19:13:27.181442",
     "exception": false,
     "start_time": "2023-07-17T19:13:27.130813",
     "status": "completed"
    },
    "tags": []
   },
   "outputs": [
    {
     "data": {
      "text/html": [
       "<div>\n",
       "<style scoped>\n",
       "    .dataframe tbody tr th:only-of-type {\n",
       "        vertical-align: middle;\n",
       "    }\n",
       "\n",
       "    .dataframe tbody tr th {\n",
       "        vertical-align: top;\n",
       "    }\n",
       "\n",
       "    .dataframe thead th {\n",
       "        text-align: right;\n",
       "    }\n",
       "</style>\n",
       "<table border=\"1\" class=\"dataframe\">\n",
       "  <thead>\n",
       "    <tr style=\"text-align: right;\">\n",
       "      <th></th>\n",
       "      <th>PassengerId</th>\n",
       "      <th>HomePlanet</th>\n",
       "      <th>CryoSleep</th>\n",
       "      <th>Deck</th>\n",
       "      <th>Number</th>\n",
       "      <th>P/S</th>\n",
       "      <th>Destination</th>\n",
       "      <th>Age</th>\n",
       "      <th>VIP</th>\n",
       "      <th>RoomService</th>\n",
       "      <th>FoodCourt</th>\n",
       "      <th>ShoppingMall</th>\n",
       "      <th>Spa</th>\n",
       "      <th>VRDeck</th>\n",
       "      <th>TotalBill</th>\n",
       "      <th>Name</th>\n",
       "    </tr>\n",
       "  </thead>\n",
       "  <tbody>\n",
       "    <tr>\n",
       "      <th>4278</th>\n",
       "      <td>4558_01</td>\n",
       "      <td>Europa</td>\n",
       "      <td>0</td>\n",
       "      <td>C</td>\n",
       "      <td>167</td>\n",
       "      <td>S</td>\n",
       "      <td>55 Cancri e</td>\n",
       "      <td>54.0</td>\n",
       "      <td>0</td>\n",
       "      <td>0.0</td>\n",
       "      <td>559.0</td>\n",
       "      <td>0.0</td>\n",
       "      <td>15238.0</td>\n",
       "      <td>2799.0</td>\n",
       "      <td>18596.0</td>\n",
       "      <td>Wezna Baleful</td>\n",
       "    </tr>\n",
       "    <tr>\n",
       "      <th>5971</th>\n",
       "      <td>6326_01</td>\n",
       "      <td>Earth</td>\n",
       "      <td>0</td>\n",
       "      <td>F</td>\n",
       "      <td>1307</td>\n",
       "      <td>P</td>\n",
       "      <td>TRAPPIST-1e</td>\n",
       "      <td>20.0</td>\n",
       "      <td>0</td>\n",
       "      <td>0.0</td>\n",
       "      <td>20.0</td>\n",
       "      <td>1.0</td>\n",
       "      <td>696.0</td>\n",
       "      <td>0.0</td>\n",
       "      <td>717.0</td>\n",
       "      <td>Therek Hinetthews</td>\n",
       "    </tr>\n",
       "    <tr>\n",
       "      <th>464</th>\n",
       "      <td>0503_02</td>\n",
       "      <td>Mars</td>\n",
       "      <td>0</td>\n",
       "      <td>F</td>\n",
       "      <td>90</td>\n",
       "      <td>S</td>\n",
       "      <td>TRAPPIST-1e</td>\n",
       "      <td>43.0</td>\n",
       "      <td>0</td>\n",
       "      <td>1821.0</td>\n",
       "      <td>0.0</td>\n",
       "      <td>47.0</td>\n",
       "      <td>29.0</td>\n",
       "      <td>0.0</td>\n",
       "      <td>1897.0</td>\n",
       "      <td>Torms Fone</td>\n",
       "    </tr>\n",
       "    <tr>\n",
       "      <th>4475</th>\n",
       "      <td>4757_01</td>\n",
       "      <td>Earth</td>\n",
       "      <td>0</td>\n",
       "      <td>F</td>\n",
       "      <td>896</td>\n",
       "      <td>S</td>\n",
       "      <td>TRAPPIST-1e</td>\n",
       "      <td>24.0</td>\n",
       "      <td>0</td>\n",
       "      <td>185.0</td>\n",
       "      <td>0.0</td>\n",
       "      <td>476.0</td>\n",
       "      <td>1810.0</td>\n",
       "      <td>53.0</td>\n",
       "      <td>2524.0</td>\n",
       "      <td>Tanley Mirandry</td>\n",
       "    </tr>\n",
       "    <tr>\n",
       "      <th>8469</th>\n",
       "      <td>9046_01</td>\n",
       "      <td>Europa</td>\n",
       "      <td>1</td>\n",
       "      <td>C</td>\n",
       "      <td>335</td>\n",
       "      <td>S</td>\n",
       "      <td>55 Cancri e</td>\n",
       "      <td>25.0</td>\n",
       "      <td>0</td>\n",
       "      <td>0.0</td>\n",
       "      <td>0.0</td>\n",
       "      <td>0.0</td>\n",
       "      <td>0.0</td>\n",
       "      <td>0.0</td>\n",
       "      <td>0.0</td>\n",
       "      <td>Alphah Cratrave</td>\n",
       "    </tr>\n",
       "    <tr>\n",
       "      <th>...</th>\n",
       "      <td>...</td>\n",
       "      <td>...</td>\n",
       "      <td>...</td>\n",
       "      <td>...</td>\n",
       "      <td>...</td>\n",
       "      <td>...</td>\n",
       "      <td>...</td>\n",
       "      <td>...</td>\n",
       "      <td>...</td>\n",
       "      <td>...</td>\n",
       "      <td>...</td>\n",
       "      <td>...</td>\n",
       "      <td>...</td>\n",
       "      <td>...</td>\n",
       "      <td>...</td>\n",
       "      <td>...</td>\n",
       "    </tr>\n",
       "    <tr>\n",
       "      <th>4373</th>\n",
       "      <td>4655_01</td>\n",
       "      <td>Europa</td>\n",
       "      <td>1</td>\n",
       "      <td>B</td>\n",
       "      <td>154</td>\n",
       "      <td>P</td>\n",
       "      <td>55 Cancri e</td>\n",
       "      <td>32.0</td>\n",
       "      <td>0</td>\n",
       "      <td>0.0</td>\n",
       "      <td>0.0</td>\n",
       "      <td>0.0</td>\n",
       "      <td>0.0</td>\n",
       "      <td>0.0</td>\n",
       "      <td>0.0</td>\n",
       "      <td>Ainkard Seflock</td>\n",
       "    </tr>\n",
       "    <tr>\n",
       "      <th>7891</th>\n",
       "      <td>8423_01</td>\n",
       "      <td>Earth</td>\n",
       "      <td>0</td>\n",
       "      <td>F</td>\n",
       "      <td>1620</td>\n",
       "      <td>S</td>\n",
       "      <td>TRAPPIST-1e</td>\n",
       "      <td>22.0</td>\n",
       "      <td>0</td>\n",
       "      <td>0.0</td>\n",
       "      <td>0.0</td>\n",
       "      <td>6.0</td>\n",
       "      <td>0.0</td>\n",
       "      <td>733.0</td>\n",
       "      <td>739.0</td>\n",
       "      <td>Analdy Bartez</td>\n",
       "    </tr>\n",
       "    <tr>\n",
       "      <th>4859</th>\n",
       "      <td>5185_01</td>\n",
       "      <td>Mars</td>\n",
       "      <td>0</td>\n",
       "      <td>E</td>\n",
       "      <td>330</td>\n",
       "      <td>S</td>\n",
       "      <td>TRAPPIST-1e</td>\n",
       "      <td>29.0</td>\n",
       "      <td>0</td>\n",
       "      <td>523.0</td>\n",
       "      <td>0.0</td>\n",
       "      <td>21.0</td>\n",
       "      <td>4.0</td>\n",
       "      <td>811.0</td>\n",
       "      <td>1359.0</td>\n",
       "      <td>Cruts Flie</td>\n",
       "    </tr>\n",
       "    <tr>\n",
       "      <th>3264</th>\n",
       "      <td>3499_04</td>\n",
       "      <td>Earth</td>\n",
       "      <td>0</td>\n",
       "      <td>G</td>\n",
       "      <td>574</td>\n",
       "      <td>P</td>\n",
       "      <td>TRAPPIST-1e</td>\n",
       "      <td>0.0</td>\n",
       "      <td>0</td>\n",
       "      <td>0.0</td>\n",
       "      <td>0.0</td>\n",
       "      <td>0.0</td>\n",
       "      <td>0.0</td>\n",
       "      <td>0.0</td>\n",
       "      <td>0.0</td>\n",
       "      <td>Allene Mccarveymon</td>\n",
       "    </tr>\n",
       "    <tr>\n",
       "      <th>2732</th>\n",
       "      <td>2930_01</td>\n",
       "      <td>Earth</td>\n",
       "      <td>0</td>\n",
       "      <td>G</td>\n",
       "      <td>474</td>\n",
       "      <td>P</td>\n",
       "      <td>TRAPPIST-1e</td>\n",
       "      <td>45.0</td>\n",
       "      <td>0</td>\n",
       "      <td>NaN</td>\n",
       "      <td>9.0</td>\n",
       "      <td>0.0</td>\n",
       "      <td>857.0</td>\n",
       "      <td>16.0</td>\n",
       "      <td>882.0</td>\n",
       "      <td>Cary Mejiaddox</td>\n",
       "    </tr>\n",
       "  </tbody>\n",
       "</table>\n",
       "<p>6954 rows × 16 columns</p>\n",
       "</div>"
      ],
      "text/plain": [
       "     PassengerId HomePlanet  CryoSleep Deck  Number P/S  Destination   Age  \\\n",
       "4278     4558_01     Europa          0    C     167   S  55 Cancri e  54.0   \n",
       "5971     6326_01      Earth          0    F    1307   P  TRAPPIST-1e  20.0   \n",
       "464      0503_02       Mars          0    F      90   S  TRAPPIST-1e  43.0   \n",
       "4475     4757_01      Earth          0    F     896   S  TRAPPIST-1e  24.0   \n",
       "8469     9046_01     Europa          1    C     335   S  55 Cancri e  25.0   \n",
       "...          ...        ...        ...  ...     ...  ..          ...   ...   \n",
       "4373     4655_01     Europa          1    B     154   P  55 Cancri e  32.0   \n",
       "7891     8423_01      Earth          0    F    1620   S  TRAPPIST-1e  22.0   \n",
       "4859     5185_01       Mars          0    E     330   S  TRAPPIST-1e  29.0   \n",
       "3264     3499_04      Earth          0    G     574   P  TRAPPIST-1e   0.0   \n",
       "2732     2930_01      Earth          0    G     474   P  TRAPPIST-1e  45.0   \n",
       "\n",
       "      VIP  RoomService  FoodCourt  ShoppingMall      Spa  VRDeck  TotalBill  \\\n",
       "4278    0          0.0      559.0           0.0  15238.0  2799.0    18596.0   \n",
       "5971    0          0.0       20.0           1.0    696.0     0.0      717.0   \n",
       "464     0       1821.0        0.0          47.0     29.0     0.0     1897.0   \n",
       "4475    0        185.0        0.0         476.0   1810.0    53.0     2524.0   \n",
       "8469    0          0.0        0.0           0.0      0.0     0.0        0.0   \n",
       "...   ...          ...        ...           ...      ...     ...        ...   \n",
       "4373    0          0.0        0.0           0.0      0.0     0.0        0.0   \n",
       "7891    0          0.0        0.0           6.0      0.0   733.0      739.0   \n",
       "4859    0        523.0        0.0          21.0      4.0   811.0     1359.0   \n",
       "3264    0          0.0        0.0           0.0      0.0     0.0        0.0   \n",
       "2732    0          NaN        9.0           0.0    857.0    16.0      882.0   \n",
       "\n",
       "                    Name  \n",
       "4278       Wezna Baleful  \n",
       "5971   Therek Hinetthews  \n",
       "464           Torms Fone  \n",
       "4475     Tanley Mirandry  \n",
       "8469     Alphah Cratrave  \n",
       "...                  ...  \n",
       "4373     Ainkard Seflock  \n",
       "7891       Analdy Bartez  \n",
       "4859          Cruts Flie  \n",
       "3264  Allene Mccarveymon  \n",
       "2732      Cary Mejiaddox  \n",
       "\n",
       "[6954 rows x 16 columns]"
      ]
     },
     "execution_count": 15,
     "metadata": {},
     "output_type": "execute_result"
    }
   ],
   "source": [
    "X_train"
   ]
  },
  {
   "cell_type": "code",
   "execution_count": 16,
   "id": "f1033f3b",
   "metadata": {
    "execution": {
     "iopub.execute_input": "2023-07-17T19:13:27.197869Z",
     "iopub.status.busy": "2023-07-17T19:13:27.196993Z",
     "iopub.status.idle": "2023-07-17T19:13:27.218617Z",
     "shell.execute_reply": "2023-07-17T19:13:27.217607Z"
    },
    "papermill": {
     "duration": 0.032252,
     "end_time": "2023-07-17T19:13:27.220987",
     "exception": false,
     "start_time": "2023-07-17T19:13:27.188735",
     "status": "completed"
    },
    "tags": []
   },
   "outputs": [
    {
     "data": {
      "text/plain": [
       "19.787172850158182"
      ]
     },
     "execution_count": 16,
     "metadata": {},
     "output_type": "execute_result"
    }
   ],
   "source": [
    "X_train.isnull().sum().sum() / X_train.shape[0] * 100"
   ]
  },
  {
   "cell_type": "code",
   "execution_count": 17,
   "id": "b908f919",
   "metadata": {
    "execution": {
     "iopub.execute_input": "2023-07-17T19:13:27.237195Z",
     "iopub.status.busy": "2023-07-17T19:13:27.236854Z",
     "iopub.status.idle": "2023-07-17T19:13:27.546897Z",
     "shell.execute_reply": "2023-07-17T19:13:27.545970Z"
    },
    "papermill": {
     "duration": 0.320636,
     "end_time": "2023-07-17T19:13:27.549109",
     "exception": false,
     "start_time": "2023-07-17T19:13:27.228473",
     "status": "completed"
    },
    "tags": []
   },
   "outputs": [
    {
     "data": {
      "text/plain": [
       "<Axes: >"
      ]
     },
     "execution_count": 17,
     "metadata": {},
     "output_type": "execute_result"
    },
    {
     "data": {
      "image/png": "[encoded data removed]",
      "text/plain": [
       "<Figure size 640x480 with 1 Axes>"
      ]
     },
     "metadata": {},
     "output_type": "display_data"
    }
   ],
   "source": [
    "X_train.loc[:, 'RoomService':'VRDeck'].plot.box()"
   ]
  },
  {
   "cell_type": "code",
   "execution_count": 18,
   "id": "6fdcd38f",
   "metadata": {
    "execution": {
     "iopub.execute_input": "2023-07-17T19:13:27.566635Z",
     "iopub.status.busy": "2023-07-17T19:13:27.566266Z",
     "iopub.status.idle": "2023-07-17T19:13:37.818298Z",
     "shell.execute_reply": "2023-07-17T19:13:37.817287Z"
    },
    "papermill": {
     "duration": 10.263441,
     "end_time": "2023-07-17T19:13:37.820556",
     "exception": false,
     "start_time": "2023-07-17T19:13:27.557115",
     "status": "completed"
    },
    "tags": []
   },
   "outputs": [
    {
     "name": "stdout",
     "output_type": "stream",
     "text": [
      "Accuracy: 0.7912593444508338\n",
      "Precision: 0.779107725788901\n",
      "Recall: 0.817351598173516\n",
      "F1 Score: 0.7977715877437326\n",
      "ROC AUC Score: 0.7910628211029804\n"
     ]
    }
   ],
   "source": [
    "numerical_cols = [c for c in X_full_train.columns if X_full_train[c].dtype == 'float64']\n",
    "categorical_cols = [c for c in X_full_train.columns if X_full_train[c].dtype == 'object']\n",
    "numerical_imputer = SimpleImputer(strategy='median')\n",
    "categorical_imputer = SimpleImputer(strategy='most_frequent')\n",
    "encoder = OneHotEncoder(handle_unknown='ignore')\n",
    "categorical_transformer = Pipeline(steps=[\n",
    "    ('imputer', categorical_imputer),\n",
    "    ('encoder', encoder)\n",
    "])\n",
    "preprocessor = ColumnTransformer(transformers=[\n",
    "    ('numerical_transformer', numerical_imputer, numerical_cols),\n",
    "    ('categorical_transformer', categorical_transformer, categorical_cols)\n",
    "])\n",
    "preprocessor.fit_transform(X_train)\n",
    "X_test_transformed = preprocessor.transform(X_test)\n",
    "model = XGBClassifier(n_estimators=1000, learning_rate=0.05, random_state=0, eval_metric='logloss')\n",
    "fit_params = {\n",
    "    'model__eval_set': [(X_test_transformed, y_test)],\n",
    "#     'model__eval_metric': 'logloss',\n",
    "    'model__verbose': False\n",
    "}\n",
    "pipeline = Pipeline(steps=[\n",
    "    ('preprocessing', preprocessor),\n",
    "    ('model', model)\n",
    "])\n",
    "pipeline.fit(X_train, y_train, **fit_params)\n",
    "preds = pipeline.predict(X_test)\n",
    "acc = accuracy_score(y_test, preds)\n",
    "precision = precision_score(y_test, preds)\n",
    "f1 = f1_score(y_test, preds)\n",
    "recall = recall_score(y_test, preds)\n",
    "roc_auc = roc_auc_score(y_test, preds)\n",
    "print(\"Accuracy:\", acc)\n",
    "print(\"Precision:\", precision)\n",
    "print(\"Recall:\", recall)\n",
    "print(\"F1 Score:\", f1)\n",
    "print(\"ROC AUC Score:\", roc_auc)"
   ]
  }
 ],
 "metadata": {
  "kernelspec": {
   "display_name": "Python 3",
   "language": "python",
   "name": "python3"
  },
  "language_info": {
   "codemirror_mode": {
    "name": "ipython",
    "version": 3
   },
   "file_extension": ".py",
   "mimetype": "text/x-python",
   "name": "python",
   "nbconvert_exporter": "python",
   "pygments_lexer": "ipython3",
   "version": "3.10.10"
  },
  "papermill": {
   "default_parameters": {},
   "duration": 26.147082,
   "end_time": "2023-07-17T19:13:38.749170",
   "environment_variables": {},
   "exception": null,
   "input_path": "__notebook__.ipynb",
   "output_path": "__notebook__.ipynb",
   "parameters": {},
   "start_time": "2023-07-17T19:13:12.602088",
   "version": "2.4.0"
  }
 },
 "nbformat": 4,
 "nbformat_minor": 5
}
